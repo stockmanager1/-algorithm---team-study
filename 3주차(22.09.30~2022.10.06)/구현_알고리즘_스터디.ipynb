{
  "nbformat": 4,
  "nbformat_minor": 0,
  "metadata": {
    "colab": {
      "provenance": [],
      "collapsed_sections": []
    },
    "kernelspec": {
      "name": "python3",
      "display_name": "Python 3"
    },
    "language_info": {
      "name": "python"
    }
  },
  "cells": [
    {
      "cell_type": "markdown",
      "source": [
        "# 10월 4일"
      ],
      "metadata": {
        "id": "hKEUTU-P8FjG"
      }
    },
    {
      "cell_type": "markdown",
      "source": [
        "##상하좌우\n",
        "1. 함수로 각 자리로 가는 경우를 정의한다. 그리고 움직임\n",
        "2. 반복문 내부에 하나하나 경우를 나누어 만들기\n",
        "\n",
        "일단 2번으로 풀자 eval을 쓰기가 싫어 ㅠㅠㅠ"
      ],
      "metadata": {
        "id": "JWdH6fvj13Ef"
      }
    },
    {
      "cell_type": "markdown",
      "source": [
        "### 2번풀이"
      ],
      "metadata": {
        "id": "ZoURZdsj8JQf"
      }
    },
    {
      "cell_type": "code",
      "source": [
        "n = int(input())\n",
        "\n",
        "list_move = input().split()\n",
        "\n",
        "start_x = 1\n",
        "start_y = 1\n",
        "for i in list_move:\n",
        "  if i == 'R':\n",
        "    start_y = start_y + 1\n",
        "  elif i == 'L':\n",
        "    start_y = start_y - 1\n",
        "  elif i == 'U':\n",
        "    start_x = start_x - 1\n",
        "    if start_x == 0:\n",
        "      start_x = start_x + 1\n",
        "  elif i == 'D':\n",
        "    start_x = start_x + 1\n",
        "print(start_x,start_y)"
      ],
      "metadata": {
        "colab": {
          "base_uri": "https://localhost:8080/"
        },
        "id": "A5O-y4BP4zLn",
        "outputId": "f23792c0-7c50-431d-ff05-a25ad91e3bb0"
      },
      "execution_count": null,
      "outputs": [
        {
          "output_type": "stream",
          "name": "stdout",
          "text": [
            "5\n",
            "R R R U D D\n",
            "3 4\n"
          ]
        }
      ]
    },
    {
      "cell_type": "markdown",
      "source": [
        "###1번 풀이"
      ],
      "metadata": {
        "id": "VVMMCSMH8DPj"
      }
    },
    {
      "cell_type": "code",
      "source": [
        "def R():\n",
        "  start_y = start_y + 1\n",
        "def L():\n",
        "  start_y = start_y - 1\n",
        "def U():\n",
        "  start_x = start_x - 1\n",
        "  if start_x == 0:\n",
        "      start_x = start_x + 1\n",
        "def D():\n",
        "  start_x = start_x + 1"
      ],
      "metadata": {
        "id": "ODDNovrL548j"
      },
      "execution_count": null,
      "outputs": []
    },
    {
      "cell_type": "markdown",
      "source": [
        "왜 안풀리는 거지?"
      ],
      "metadata": {
        "id": "GrQW_rHE-zkZ"
      }
    },
    {
      "cell_type": "markdown",
      "source": [
        "#10월 5일"
      ],
      "metadata": {
        "id": "gOaJ8n1e-2C0"
      }
    },
    {
      "cell_type": "markdown",
      "source": [
        "##시각\n",
        "전체 경우의 수에서 해당하지 않는 부분 뺴기"
      ],
      "metadata": {
        "id": "wCNRt3XX-3i6"
      }
    },
    {
      "cell_type": "code",
      "source": [
        "n = int(input())\n",
        "list_A = []\n",
        "for i in range(0,60):\n",
        "  k = list(str(i))\n",
        "  if '3' not in k:\n",
        "    list_A.append(k)\n",
        "minus_case = len(list_A)\n",
        "all_case = ((n+1)*60*60)\n",
        "final_value = all_case-(minus_case*minus_case*(n))\n",
        "print(final_value)"
      ],
      "metadata": {
        "colab": {
          "base_uri": "https://localhost:8080/"
        },
        "id": "DhkV9aK-DsU9",
        "outputId": "362e4484-1ccf-4feb-9fd0-659c4772d8bf"
      },
      "execution_count": null,
      "outputs": [
        {
          "output_type": "stream",
          "name": "stdout",
          "text": [
            "0\n",
            "3600\n"
          ]
        }
      ]
    },
    {
      "cell_type": "markdown",
      "source": [
        "#10월 6일"
      ],
      "metadata": {
        "id": "RcmdncWylVFL"
      }
    },
    {
      "cell_type": "markdown",
      "source": [
        "##왕실의 나이트"
      ],
      "metadata": {
        "id": "gBACpuwfEj-V"
      }
    },
    {
      "cell_type": "code",
      "source": [
        "n = input()"
      ],
      "metadata": {
        "colab": {
          "base_uri": "https://localhost:8080/"
        },
        "id": "GJcvOCHvESII",
        "outputId": "d260b157-cf1b-446d-fb96-988aa72dd03d"
      },
      "execution_count": null,
      "outputs": [
        {
          "name": "stdout",
          "output_type": "stream",
          "text": [
            "a1\n"
          ]
        }
      ]
    },
    {
      "cell_type": "code",
      "source": [
        "n = list(n)"
      ],
      "metadata": {
        "id": "0RY2qdaANEtF"
      },
      "execution_count": null,
      "outputs": []
    },
    {
      "cell_type": "code",
      "source": [
        "start_list = [0,0]"
      ],
      "metadata": {
        "id": "vxAPuPPfNT6u"
      },
      "execution_count": null,
      "outputs": []
    },
    {
      "cell_type": "code",
      "source": [
        "print(n)"
      ],
      "metadata": {
        "colab": {
          "base_uri": "https://localhost:8080/"
        },
        "id": "Rjs2ip8CNGMR",
        "outputId": "e2765a35-74d7-42a5-a526-f04d5463917a"
      },
      "execution_count": null,
      "outputs": [
        {
          "output_type": "stream",
          "name": "stdout",
          "text": [
            "['a', '1']\n"
          ]
        }
      ]
    },
    {
      "cell_type": "code",
      "source": [
        "if n[0] == 'a':\n",
        "  start_list[1] = start_list[1] + 1\n",
        "elif n[0] == 'b':\n",
        "  start_list[1] = start_list[1] + 2\n",
        "elif n[0] == 'c':\n",
        "  start_list[1] = start_list[1] + 3\n",
        "elif n[0] == 'd':\n",
        "  start_list[1] = start_list[1] + 4\n",
        "if n[0] == 'e':\n",
        "  start_list[1] = start_list[1] + 5\n",
        "elif n[0] == 'f':\n",
        "  start_list[1] = start_list[1] + 6\n",
        "elif n[0] == 'g':\n",
        "  start_list[1] = start_list[1] + 7\n",
        "elif n[0] == 'h':\n",
        "  start_list[1] = start_list[1] + 8"
      ],
      "metadata": {
        "id": "dewt8bNbNM-y"
      },
      "execution_count": null,
      "outputs": []
    },
    {
      "cell_type": "code",
      "source": [
        "print(start_list)"
      ],
      "metadata": {
        "colab": {
          "base_uri": "https://localhost:8080/"
        },
        "id": "bhX_urZDN1aG",
        "outputId": "79d14cfa-2299-4fe2-fe9c-47dde393d8c6"
      },
      "execution_count": null,
      "outputs": [
        {
          "output_type": "stream",
          "name": "stdout",
          "text": [
            "[0, 1]\n"
          ]
        }
      ]
    },
    {
      "cell_type": "code",
      "source": [
        "start_list[0] = int(n[1])"
      ],
      "metadata": {
        "id": "YtILGE22N4qu"
      },
      "execution_count": null,
      "outputs": []
    },
    {
      "cell_type": "code",
      "source": [
        "print(start_list)"
      ],
      "metadata": {
        "colab": {
          "base_uri": "https://localhost:8080/"
        },
        "id": "ESZgGMt4OZkE",
        "outputId": "fa612322-74f3-40e5-815b-a33941358e48"
      },
      "execution_count": null,
      "outputs": [
        {
          "output_type": "stream",
          "name": "stdout",
          "text": [
            "[1, 1]\n"
          ]
        }
      ]
    },
    {
      "cell_type": "markdown",
      "source": [
        "경우를 (1,1),(8,1)뭐 이런식으로 갈 수 있는 경로가 2,3,4에 따라서 나눌려고 하니까 이거 뭐 답이 없음.. 다른 방법을 찾아야 한다."
      ],
      "metadata": {
        "id": "jIffWAHEm-o5"
      }
    },
    {
      "cell_type": "markdown",
      "source": [
        "#게임 개발"
      ],
      "metadata": {
        "id": "wLMttoJRlbNR"
      }
    },
    {
      "cell_type": "code",
      "source": [
        "m,n = list(map(input().split()))"
      ],
      "metadata": {
        "id": "igNpv1QrlcDM",
        "colab": {
          "base_uri": "https://localhost:8080/"
        },
        "outputId": "4779dd06-6774-4f04-9e2e-177de8b523f8"
      },
      "execution_count": null,
      "outputs": [
        {
          "name": "stdout",
          "output_type": "stream",
          "text": [
            "4 4\n"
          ]
        }
      ]
    },
    {
      "cell_type": "code",
      "source": [
        "arr = []"
      ],
      "metadata": {
        "id": "frvVbgEY15R6"
      },
      "execution_count": null,
      "outputs": []
    },
    {
      "cell_type": "code",
      "source": [
        "field = []"
      ],
      "metadata": {
        "id": "PaWoro8n16ok"
      },
      "execution_count": null,
      "outputs": []
    },
    {
      "cell_type": "code",
      "source": [
        "k = []"
      ],
      "metadata": {
        "id": "svNJYOwu62O2"
      },
      "execution_count": null,
      "outputs": []
    },
    {
      "cell_type": "code",
      "source": [
        "for i in range(n):\n",
        "  arr.append(list(map(int,input().split())))\n",
        "  for j in range(m):\n",
        "    k.append([0])"
      ],
      "metadata": {
        "colab": {
          "base_uri": "https://localhost:8080/"
        },
        "id": "8BPC7b3CzkHP",
        "outputId": "817d05fa-aa3d-4fe6-f5bf-005c2eab77ab"
      },
      "execution_count": null,
      "outputs": [
        {
          "name": "stdout",
          "output_type": "stream",
          "text": [
            "1 1 1 1 \n",
            "1 0 0 1\n",
            "1 1 0 1\n",
            "1 1 1 1\n"
          ]
        }
      ]
    },
    {
      "cell_type": "code",
      "source": [
        "x,y,state = input().split()"
      ],
      "metadata": {
        "colab": {
          "base_uri": "https://localhost:8080/"
        },
        "id": "2MUsfPZ-7scE",
        "outputId": "72b155ca-ea99-4e51-cb56-c7515ea21a35"
      },
      "execution_count": null,
      "outputs": [
        {
          "name": "stdout",
          "output_type": "stream",
          "text": [
            "1 1 0\n"
          ]
        }
      ]
    },
    {
      "cell_type": "code",
      "source": [
        "x= int(x)\n",
        "y = int(y)\n",
        "state = int(state)"
      ],
      "metadata": {
        "id": "rqGuW95H73C7"
      },
      "execution_count": null,
      "outputs": []
    },
    {
      "cell_type": "code",
      "source": [
        "now_step = arr[x][y]"
      ],
      "metadata": {
        "id": "PUf5l7K980DU"
      },
      "execution_count": null,
      "outputs": []
    },
    {
      "cell_type": "code",
      "source": [
        "now_step"
      ],
      "metadata": {
        "colab": {
          "base_uri": "https://localhost:8080/"
        },
        "id": "GXDZE4GvFZrX",
        "outputId": "4708c970-61e0-4cb4-ed2d-59f8fa920d60"
      },
      "execution_count": null,
      "outputs": [
        {
          "output_type": "execute_result",
          "data": {
            "text/plain": [
              "0"
            ]
          },
          "metadata": {},
          "execution_count": 52
        }
      ]
    },
    {
      "cell_type": "code",
      "source": [
        "while True:\n",
        "  "
      ],
      "metadata": {
        "id": "pA2oZboUFao_"
      },
      "execution_count": null,
      "outputs": []
    }
  ]
}